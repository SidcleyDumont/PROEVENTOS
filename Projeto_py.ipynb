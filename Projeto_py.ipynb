{
  "cells": [
    {
      "cell_type": "markdown",
      "metadata": {
        "id": "view-in-github",
        "colab_type": "text"
      },
      "source": [
        "<a href=\"https://colab.research.google.com/github/SidcleyDumont/PROEVENTOS/blob/master/Projeto_py.ipynb\" target=\"_parent\"><img src=\"https://colab.research.google.com/assets/colab-badge.svg\" alt=\"Open In Colab\"/></a>"
      ]
    },
    {
      "cell_type": "code",
      "source": [
        "import os\n",
        "lista_arquivo = os.listdir(\"/content/drive/MyDrive/Projetos em PYTHON/Vendas\")\n",
        "print(lista_arquivo)\n"
      ],
      "metadata": {
        "colab": {
          "base_uri": "https://localhost:8080/"
        },
        "id": "3p_mHx4hrkBQ",
        "outputId": "31af650e-c30e-4f0a-b1ba-c693160328ce"
      },
      "execution_count": 3,
      "outputs": [
        {
          "output_type": "stream",
          "name": "stdout",
          "text": [
            "['Devolucoes - São Paulo.csv', 'Devolucoes - Rio de Janeiro.csv', 'Vendas - Curitiba.csv', 'Vendas - Porto Alegre.csv', 'Devolucoes - Curitiba.csv', 'Vendas - São Paulo.csv', 'Vendas - Belo Horizonte.csv', 'Vendas - Salvador.csv', 'Vendas - Rio de Janeiro.csv', 'Devolucoes - Goiás.csv', 'Devolucoes - Porto Alegre.csv', 'Vendas - Recife.csv', 'Devolucoes - Recife.csv', 'Vendas - Goiás.csv', 'Devolucoes - Belo Horizonte.csv', 'Devolucoes - Fortaleza.csv', 'Vendas - Fortaleza.csv', 'Devolucoes - Salvador.csv']\n"
          ]
        }
      ]
    }
  ],
  "metadata": {
    "colab": {
      "collapsed_sections": [],
      "name": "Olá, este é o Colaboratory",
      "provenance": [],
      "include_colab_link": true
    },
    "kernelspec": {
      "display_name": "Python 3",
      "name": "python3"
    }
  },
  "nbformat": 4,
  "nbformat_minor": 0
}